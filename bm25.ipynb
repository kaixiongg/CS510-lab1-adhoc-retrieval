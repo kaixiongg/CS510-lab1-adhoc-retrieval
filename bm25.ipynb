{
 "cells": [
  {
   "cell_type": "code",
   "execution_count": 1,
   "metadata": {},
   "outputs": [],
   "source": [
    "import math\n",
    "from six import iteritems\n",
    "from six.moves import xrange\n",
    "import codecs\n",
    "from gensim import corpora\n",
    "from gensim.summarization import bm25\n",
    "from gensim.summarization.bm25 import get_bm25_weights\n",
    "import os\n",
    "import re"
   ]
  },
  {
   "cell_type": "code",
   "execution_count": 2,
   "metadata": {},
   "outputs": [],
   "source": [
    "# BM25 parameters.\n",
    "PARAM_K1 = 1.5\n",
    "PARAM_B = 0.75\n",
    "EPSILON = 0.25\n",
    "\n",
    "\n",
    "class BM25(object):\n",
    "\n",
    "    def __init__(self, corpus):\n",
    "        self.corpus_size = len(corpus)\n",
    "        self.avgdl = sum(map(lambda x: float(len(x)), corpus)) / self.corpus_size\n",
    "        self.corpus = corpus\n",
    "        self.f = []\n",
    "        self.df = {}\n",
    "        self.idf = {}\n",
    "        self.initialize()\n",
    "\n",
    "    def initialize(self):\n",
    "        for document in self.corpus:\n",
    "            frequencies = {}\n",
    "            for word in document:\n",
    "                if word not in frequencies:\n",
    "                    frequencies[word] = 0\n",
    "                frequencies[word] += 1\n",
    "            self.f.append(frequencies)\n",
    "\n",
    "            for word, freq in iteritems(frequencies):\n",
    "                if word not in self.df:\n",
    "                    self.df[word] = 0\n",
    "                self.df[word] += 1\n",
    "\n",
    "        for word, freq in iteritems(self.df):\n",
    "            self.idf[word] = math.log(self.corpus_size - freq + 0.5) - math.log(freq + 0.5)\n",
    "\n",
    "    def get_score(self, document, index, average_idf):\n",
    "        score = 0\n",
    "        for word in document:\n",
    "            if word not in self.f[index]:\n",
    "                continue\n",
    "            idf = self.idf[word] if self.idf[word] >= 0 else EPSILON * average_idf\n",
    "            score += (idf * self.f[index][word] * (PARAM_K1 + 1)\n",
    "                      / (self.f[index][word] + PARAM_K1 * (1 - PARAM_B + PARAM_B * self.corpus_size / self.avgdl)))\n",
    "        return score\n",
    "\n",
    "    def get_scores(self, document, average_idf):\n",
    "        scores = []\n",
    "        for index in xrange(self.corpus_size):\n",
    "            score = self.get_score(document, index, average_idf)\n",
    "            scores.append(score)\n",
    "        return scores\n",
    "\n",
    "\n",
    "def get_bm25_weights_own(corpus):\n",
    "    bm25 = BM25(corpus)\n",
    "    average_idf = sum(map(lambda k: float(bm25.idf[k]), bm25.idf.keys())) / len(bm25.idf.keys())\n",
    "\n",
    "    weights = []\n",
    "    for doc in corpus:\n",
    "        scores = bm25.get_scores(doc, average_idf)\n",
    "        weights.append(scores)\n",
    "\n",
    "    return weights"
   ]
  },
  {
   "cell_type": "code",
   "execution_count": 3,
   "metadata": {},
   "outputs": [],
   "source": [
    "from stop_words import get_stop_words\n",
    "\n",
    "stopwords = get_stop_words('en')"
   ]
  },
  {
   "cell_type": "code",
   "execution_count": 4,
   "metadata": {},
   "outputs": [],
   "source": [
    "stop_flag = ['x', 'c', 'u','d', 'p', 't', 'uj', 'm', 'f', 'r']\n",
    "def tokenization(filename):\n",
    "    result = []\n",
    "    dirname = './text/'\n",
    "    f = open(dirname+filename, 'r')\n",
    "    words = [word for line in f for word in line.split()]\n",
    "    for word in words:\n",
    "        if word not in stopwords:\n",
    "            result.append(word)\n",
    "    f.close()\n",
    "    return result"
   ]
  },
  {
   "cell_type": "code",
   "execution_count": 5,
   "metadata": {},
   "outputs": [
    {
     "name": "stdout",
     "output_type": "stream",
     "text": [
      "12566\n"
     ]
    }
   ],
   "source": [
    "corpus = [];\n",
    "dirname = './text'\n",
    "filenames = []\n",
    "for root,dirs,files in os.walk(dirname):\n",
    "    files = [f for f in files if not f[0] == '.']\n",
    "    dirs[:] = [d for d in dirs if not d[0] == '.']\n",
    "    for f in files:\n",
    "        corpus.append(tokenization(f))\n",
    "        filenames.append(f)\n",
    "    \n",
    "dictionary = corpora.Dictionary(corpus)\n",
    "print (len(dictionary))"
   ]
  },
  {
   "cell_type": "code",
   "execution_count": 6,
   "metadata": {},
   "outputs": [
    {
     "name": "stdout",
     "output_type": "stream",
     "text": [
      "fundraising\n",
      "diabetes\n",
      "help\n",
      "registered\n",
      "england\n"
     ]
    }
   ],
   "source": [
    "doc_vectors = [dictionary.doc2bow(text) for text in corpus]\n",
    "vec1 = doc_vectors[0]\n",
    "vec1_sorted = sorted(vec1, key= lambda x:x[1], reverse=True)\n",
    "for term, freq in vec1_sorted[:5]:\n",
    "    print(dictionary[term])"
   ]
  },
  {
   "cell_type": "code",
   "execution_count": 7,
   "metadata": {},
   "outputs": [],
   "source": [
    "bm25Model = BM25(corpus)\n",
    "average_idf = sum(map(lambda k: float(bm25Model.idf[k]), bm25Model.idf.keys())) / len(bm25Model.idf.keys())"
   ]
  },
  {
   "cell_type": "code",
   "execution_count": 8,
   "metadata": {},
   "outputs": [],
   "source": [
    "result = get_bm25_weights(corpus, n_jobs=-1)"
   ]
  },
  {
   "cell_type": "code",
   "execution_count": 9,
   "metadata": {},
   "outputs": [],
   "source": [
    "result1 = get_bm25_weights_own(corpus)"
   ]
  },
  {
   "cell_type": "code",
   "execution_count": 10,
   "metadata": {},
   "outputs": [
    {
     "name": "stdout",
     "output_type": "stream",
     "text": [
      "['diabetes', 'mellitus', 'and', 'body', 'fat', 'mass']\n"
     ]
    }
   ],
   "source": [
    "query_str = 'diabetes mellitus and body fat mass'\n",
    "query = []\n",
    "for word in query_str.strip().split():\n",
    "    query.append(word)\n",
    "print(query)\n",
    "scores = bm25Model.get_scores(query, average_idf)\n",
    "# scores.sort(reverse=True)"
   ]
  },
  {
   "cell_type": "code",
   "execution_count": 11,
   "metadata": {},
   "outputs": [
    {
     "name": "stdout",
     "output_type": "stream",
     "text": [
      "[11.588801946393495, 9.177087032697278, 8.652530483775921, 8.470162479120084, 7.871901035380452]\n",
      "[301, 205, 342, 701, 297]\n"
     ]
    }
   ],
   "source": [
    "import heapq\n",
    "topk = 5\n",
    "temp = scores.copy()\n",
    "max_number = heapq.nlargest(topk, temp) \n",
    "max_index = []\n",
    "for t in max_number:\n",
    "    index = temp.index(t)\n",
    "    max_index.append(index)\n",
    "    temp[index] = 0\n",
    "\n",
    "print(max_number)\n",
    "print(max_index)\n",
    "topk_file = []\n",
    "for i in range(topk):\n",
    "    topk_file.append(filenames[max_index[i]])"
   ]
  },
  {
   "cell_type": "code",
   "execution_count": 100,
   "metadata": {},
   "outputs": [
    {
     "data": {
      "text/plain": [
       "301"
      ]
     },
     "execution_count": 100,
     "metadata": {},
     "output_type": "execute_result"
    }
   ],
   "source": [
    "idx = scores.index(max(scores))\n",
    "idx"
   ]
  },
  {
   "cell_type": "code",
   "execution_count": 101,
   "metadata": {},
   "outputs": [
    {
     "name": "stdout",
     "output_type": "stream",
     "text": [
      "576.txt\n"
     ]
    }
   ],
   "source": [
    "fname = filenames[idx]\n",
    "print(fname)"
   ]
  },
  {
   "cell_type": "code",
   "execution_count": 102,
   "metadata": {},
   "outputs": [],
   "source": [
    "urls = []\n",
    "dirname = './text/'\n",
    "for filename in topk_file:\n",
    "    with open(dirname+filename, 'r') as f:\n",
    "        doc = f.read()\n",
    "        doc = doc.split(' ')\n",
    "        words = []\n",
    "        for i in range(len(doc)):\n",
    "            if i == 0:\n",
    "                urls.append(doc[i])\n",
    "    f.close()"
   ]
  },
  {
   "cell_type": "code",
   "execution_count": 103,
   "metadata": {},
   "outputs": [
    {
     "data": {
      "text/plain": [
       "['https://www.diabetes.org.uk/diabetes-the-basics/related-conditions',\n",
       " 'https://www.diabetes.org.uk/about_us/news/weight-loss-type-2-diabetes-remission-direct-latest',\n",
       " 'https://www.diabetes.org.uk/guide-to-diabetes/enjoy-food/eating-with-diabetes/out-and-about/holiday-eating',\n",
       " 'https://www.diabetes.org.uk/guide-to-diabetes/enjoy-food/eating-with-diabetes/what-is-a-healthy-balanced-diet/processed-and-red-meat',\n",
       " 'https://www.diabetes.org.uk/professionals/resources/shared-practice/psychological-care/emotional-health-professionals-guide']"
      ]
     },
     "execution_count": 103,
     "metadata": {},
     "output_type": "execute_result"
    }
   ],
   "source": [
    "urls"
   ]
  },
  {
   "cell_type": "code",
   "execution_count": 109,
   "metadata": {},
   "outputs": [
    {
     "data": {
      "text/plain": [
       "['576.txt', '572.txt', '239.txt', '669.txt', '238.txt']"
      ]
     },
     "execution_count": 109,
     "metadata": {},
     "output_type": "execute_result"
    }
   ],
   "source": [
    "topk_file"
   ]
  },
  {
   "cell_type": "code",
   "execution_count": null,
   "metadata": {},
   "outputs": [],
   "source": []
  }
 ],
 "metadata": {
  "kernelspec": {
   "display_name": "Python 3",
   "language": "python",
   "name": "python3"
  },
  "language_info": {
   "codemirror_mode": {
    "name": "ipython",
    "version": 3
   },
   "file_extension": ".py",
   "mimetype": "text/x-python",
   "name": "python",
   "nbconvert_exporter": "python",
   "pygments_lexer": "ipython3",
   "version": "3.8.5"
  }
 },
 "nbformat": 4,
 "nbformat_minor": 4
}
